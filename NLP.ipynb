{
  "nbformat": 4,
  "nbformat_minor": 0,
  "metadata": {
    "colab": {
      "provenance": [],
      "authorship_tag": "ABX9TyN595LFn7C8IboFgJFHsW55",
      "include_colab_link": true
    },
    "kernelspec": {
      "name": "python3",
      "display_name": "Python 3"
    },
    "language_info": {
      "name": "python"
    }
  },
  "cells": [
    {
      "cell_type": "markdown",
      "metadata": {
        "id": "view-in-github",
        "colab_type": "text"
      },
      "source": [
        "<a href=\"https://colab.research.google.com/github/eldercamposds/NLP/blob/Estudo/NLP.ipynb\" target=\"_parent\"><img src=\"https://colab.research.google.com/assets/colab-badge.svg\" alt=\"Open In Colab\"/></a>"
      ]
    },
    {
      "cell_type": "code",
      "execution_count": null,
      "metadata": {
        "id": "XTjghXPxXIAW"
      },
      "outputs": [],
      "source": [
        "!pip install -U spacy==3.2.0"
      ]
    },
    {
      "cell_type": "code",
      "source": [
        "!python -m spacy download 'pt_core_news_lg' # baixando modelo pre treinado em português"
      ],
      "metadata": {
        "id": "-b_OIillZVRV",
        "colab": {
          "base_uri": "https://localhost:8080/"
        },
        "outputId": "35a53deb-14f5-45a7-c257-ed59aa8ad847"
      },
      "execution_count": 2,
      "outputs": [
        {
          "output_type": "stream",
          "name": "stdout",
          "text": [
            "Successfully installed pt-core-news-lg-3.2.0\n",
            "\u001b[38;5;2m✔ Download and installation successful\u001b[0m\n",
            "You can now load the package via spacy.load('pt_core_news_lg')\n"
          ]
        }
      ]
    },
    {
      "cell_type": "code",
      "source": [
        "import spacy"
      ],
      "metadata": {
        "id": "182gMoTWZ_ik"
      },
      "execution_count": 3,
      "outputs": []
    },
    {
      "cell_type": "code",
      "source": [
        "nlp = spacy.load('pt_core_news_lg') #carregando modelo"
      ],
      "metadata": {
        "colab": {
          "base_uri": "https://localhost:8080/"
        },
        "id": "f31Iz904aU1_",
        "outputId": "de42132a-b471-4956-f286-5c17dd6a656d"
      },
      "execution_count": 4,
      "outputs": [
        {
          "output_type": "stream",
          "name": "stderr",
          "text": [
            "/usr/local/lib/python3.10/dist-packages/torch/__init__.py:955: UserWarning: torch.set_default_tensor_type() is deprecated as of PyTorch 2.1, please use torch.set_default_dtype() and torch.set_default_device() as alternatives. (Triggered internally at ../torch/csrc/tensor/python_tensor.cpp:432.)\n",
            "  _C._set_default_tensor_type(t)\n"
          ]
        }
      ]
    },
    {
      "cell_type": "code",
      "source": [
        "print(type(nlp))"
      ],
      "metadata": {
        "colab": {
          "base_uri": "https://localhost:8080/"
        },
        "id": "pYUk9x0Taho0",
        "outputId": "b2ae11e0-9e04-43b1-ae5e-0de364714a2e"
      },
      "execution_count": 5,
      "outputs": [
        {
          "output_type": "stream",
          "name": "stdout",
          "text": [
            "<class 'spacy.lang.pt.Portuguese'>\n"
          ]
        }
      ]
    },
    {
      "cell_type": "code",
      "source": [
        "print(nlp.pipe_names) #pipe line"
      ],
      "metadata": {
        "colab": {
          "base_uri": "https://localhost:8080/"
        },
        "id": "IfhXIOKab7Y1",
        "outputId": "ba046337-f05e-4ad6-ad93-644700093a50"
      },
      "execution_count": 6,
      "outputs": [
        {
          "output_type": "stream",
          "name": "stdout",
          "text": [
            "['tok2vec', 'morphologizer', 'parser', 'attribute_ruler', 'lemmatizer', 'ner']\n"
          ]
        }
      ]
    },
    {
      "cell_type": "code",
      "source": [
        "documento = nlp('Olá, tudo bem?')"
      ],
      "metadata": {
        "id": "VAc3ahOycMx8"
      },
      "execution_count": 7,
      "outputs": []
    },
    {
      "cell_type": "code",
      "source": [
        "len(documento.vocab) #tamanho do vocabulário"
      ],
      "metadata": {
        "colab": {
          "base_uri": "https://localhost:8080/"
        },
        "id": "8ld15wRMcgNw",
        "outputId": "26f7ae3b-1d11-40f2-f061-b7519944893d"
      },
      "execution_count": 8,
      "outputs": [
        {
          "output_type": "execute_result",
          "data": {
            "text/plain": [
              "355"
            ]
          },
          "metadata": {},
          "execution_count": 8
        }
      ]
    },
    {
      "cell_type": "code",
      "source": [
        "print(type(documento))"
      ],
      "metadata": {
        "colab": {
          "base_uri": "https://localhost:8080/"
        },
        "id": "gx1ET5TQcx-Y",
        "outputId": "130d0c91-8afb-4c57-fd93-8628c66d20e0"
      },
      "execution_count": 9,
      "outputs": [
        {
          "output_type": "stream",
          "name": "stdout",
          "text": [
            "<class 'spacy.tokens.doc.Doc'>\n"
          ]
        }
      ]
    },
    {
      "cell_type": "code",
      "source": [
        "for token in documento:\n",
        "  print(token)"
      ],
      "metadata": {
        "id": "Qw0fymc4c8HJ",
        "colab": {
          "base_uri": "https://localhost:8080/"
        },
        "outputId": "2f9e7be6-0a68-4e6c-e9dd-d6ff0470299a"
      },
      "execution_count": 10,
      "outputs": [
        {
          "output_type": "stream",
          "name": "stdout",
          "text": [
            "Olá\n",
            ",\n",
            "tudo\n",
            "bem\n",
            "?\n"
          ]
        }
      ]
    },
    {
      "cell_type": "code",
      "source": [
        "print(\"Tokens: \", [token.text for token in documento])\n",
        "print(\"Formato: \", [token.shape_ for token in documento])\n",
        "print(\"Stop Words: \", [token.is_stop for token in documento])\n",
        "print(\"Acentuação: \", [token.is_punct for token in documento])\n",
        "print(\"Maíusculo: \", [token.is_upper for token in documento])\n",
        "print(\"Sentença incial: \", [token.is_sent_start for token in documento])\n",
        "print(\"Sentença final: \", [token.is_sent_end for token in documento])"
      ],
      "metadata": {
        "colab": {
          "base_uri": "https://localhost:8080/"
        },
        "id": "pYzUDpoP27Y_",
        "outputId": "7cc43e3b-52d1-4e32-cf8d-c32079b3fb01"
      },
      "execution_count": 17,
      "outputs": [
        {
          "output_type": "stream",
          "name": "stdout",
          "text": [
            "Tokens:  ['Olá', ',', 'tudo', 'bem', '?']\n",
            "Formato:  ['Xxx', ',', 'xxxx', 'xxx', '?']\n",
            "Stop Words:  [False, False, True, True, False]\n",
            "Acentuação:  [False, True, False, False, True]\n",
            "Maíusculo:  [False, False, False, False, False]\n",
            "Sentença incial:  [True, False, False, False, False]\n",
            "Sentença final:  [False, False, False, False, True]\n"
          ]
        }
      ]
    },
    {
      "cell_type": "code",
      "source": [
        "for token in documento:\n",
        "  print(token.text, token.pos_, token.dep_, token.lemma_, token.morph, token.shape_)"
      ],
      "metadata": {
        "colab": {
          "base_uri": "https://localhost:8080/"
        },
        "id": "88ICSty44yzi",
        "outputId": "7d7d762f-b509-4ae5-851f-f406c9e4a210"
      },
      "execution_count": 19,
      "outputs": [
        {
          "output_type": "stream",
          "name": "stdout",
          "text": [
            "Olá CCONJ ROOT Olá  Xxx\n",
            ", PUNCT punct ,  ,\n",
            "tudo PRON conj tudo Gender=Masc|Number=Sing|PronType=Ind xxxx\n",
            "bem ADV advmod bem  xxx\n",
            "? PUNCT punct ?  ?\n"
          ]
        }
      ]
    },
    {
      "cell_type": "code",
      "source": [],
      "metadata": {
        "id": "DaqsW0cW79G_"
      },
      "execution_count": null,
      "outputs": []
    }
  ]
}